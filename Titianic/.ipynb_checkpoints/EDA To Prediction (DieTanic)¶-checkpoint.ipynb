{
 "cells": [
  {
   "cell_type": "markdown",
   "metadata": {},
   "source": [
    "# 예측에 대한 EDA (DieTanic)"
   ]
  },
  {
   "cell_type": "markdown",
   "metadata": {},
   "source": [
    "### 때로는 인생에는 잔인한 유머 감각이있어 최악의 시간에 항상 원했던 것을 줄 수 있습니다."
   ]
  },
  {
   "cell_type": "markdown",
   "metadata": {},
   "source": [
    "-Lisa Kleypas"
   ]
  },
  {
   "cell_type": "markdown",
   "metadata": {},
   "source": [
    "타이타닉 침몰은 역사상 가장 악명 높은 난파선 중 하나입니다. 1912 년 4 월 15 일, 처녀 여행 중에 타이타닉은 빙산과 충돌하여 침몰하여 2224 명의 승객과 승무원 중 1502 명이 사망했습니다. 그래서 DieTanic이라는 이름입니다. 이것은 세상 어느 누구도 잊을 수없는 잊을 수없는 재앙입니다."
   ]
  },
  {
   "cell_type": "markdown",
   "metadata": {},
   "source": [
    "타이타닉을 건설하는 데 약 750 만 달러가 걸렸으며 충돌로 인해 바다에서 침몰했습니다. 타이타닉 데이터 셋은 초보자가 데이터 과학 여행을 시작하고 카글 경쟁에 참여할 수있는 매우 훌륭한 데이터 셋입니다."
   ]
  },
  {
   "cell_type": "markdown",
   "metadata": {},
   "source": [
    "이 노트북의 목표는 예측 모델링 문제에서 워크 플로가 어떻게 진행되는지에 대한 **아이디어를 제공하는 것입니다.** 기능을 확인하는 방법, 새로운 기능 및 기계 학습 개념을 추가하는 방법 초보자도 노트북의 모든 단계를 이해할 수 있도록 노트북을 최대한 기본으로 유지하려고 노력했습니다."
   ]
  },
  {
   "cell_type": "markdown",
   "metadata": {},
   "source": [
    "당신이 노트북을 좋아하고 그것이 당신을 도왔다 고 생각한다면 .. 기뻐하십시오. 그것은 나에게 동기를 부여합니다."
   ]
  },
  {
   "cell_type": "markdown",
   "metadata": {},
   "source": [
    "## 노트북의 내용 :"
   ]
  },
  {
   "cell_type": "markdown",
   "metadata": {},
   "source": [
    "#### Part1 : 탐색 적 데이터 분석 (EDA) :"
   ]
  },
  {
   "cell_type": "markdown",
   "metadata": {},
   "source": [
    "1) 특징의 분석."
   ]
  },
  {
   "cell_type": "markdown",
   "metadata": {},
   "source": [
    "2) 여러 기능을 고려한 관계 또는 동향 파악"
   ]
  },
  {
   "cell_type": "markdown",
   "metadata": {},
   "source": [
    "#### Part2 : Feature Engineering and Data Cleaning:\n"
   ]
  },
  {
   "cell_type": "markdown",
   "metadata": {},
   "source": [
    "1) 몇 가지 기능 추가."
   ]
  },
  {
   "cell_type": "markdown",
   "metadata": {},
   "source": [
    "2) 중복 기능 제거."
   ]
  },
  {
   "cell_type": "markdown",
   "metadata": {},
   "source": [
    "3) 모델링에 적합한 형태로 기능을 변환합니다."
   ]
  },
  {
   "cell_type": "markdown",
   "metadata": {},
   "source": [
    "#### Part3 : 예측 모델링"
   ]
  },
  {
   "cell_type": "markdown",
   "metadata": {},
   "source": [
    "1) 기본 알고리즘 실행."
   ]
  },
  {
   "cell_type": "markdown",
   "metadata": {},
   "source": [
    "2) 교차 검증."
   ]
  },
  {
   "cell_type": "markdown",
   "metadata": {},
   "source": [
    "3) 조립."
   ]
  },
  {
   "cell_type": "markdown",
   "metadata": {},
   "source": [
    "4) 중요한 특징 추출."
   ]
  },
  {
   "cell_type": "markdown",
   "metadata": {},
   "source": [
    "### Part1 : 탐색 적 데이터 분석 (EDA)"
   ]
  },
  {
   "cell_type": "code",
   "execution_count": 3,
   "metadata": {},
   "outputs": [],
   "source": [
    "import numpy as np \n",
    "import pandas as pd\n",
    "import matplotlib.pyplot as plt\n",
    "import seaborn as sns\n",
    "plt.style.use('fivethirtyeight')\n",
    "import warnings\n",
    "warnings.filterwarnings('ignore')\n",
    "%matplotlib inline"
   ]
  },
  {
   "cell_type": "code",
   "execution_count": 5,
   "metadata": {},
   "outputs": [],
   "source": [
    "data=pd.read_csv('C:/Users/user/Nano_python/data/Titanic/train.csv')"
   ]
  },
  {
   "cell_type": "code",
   "execution_count": 7,
   "metadata": {
    "scrolled": false
   },
   "outputs": [
    {
     "data": {
      "text/html": [
       "<div>\n",
       "<style scoped>\n",
       "    .dataframe tbody tr th:only-of-type {\n",
       "        vertical-align: middle;\n",
       "    }\n",
       "\n",
       "    .dataframe tbody tr th {\n",
       "        vertical-align: top;\n",
       "    }\n",
       "\n",
       "    .dataframe thead th {\n",
       "        text-align: right;\n",
       "    }\n",
       "</style>\n",
       "<table border=\"1\" class=\"dataframe\">\n",
       "  <thead>\n",
       "    <tr style=\"text-align: right;\">\n",
       "      <th></th>\n",
       "      <th>PassengerId</th>\n",
       "      <th>Survived</th>\n",
       "      <th>Pclass</th>\n",
       "      <th>Name</th>\n",
       "      <th>Sex</th>\n",
       "      <th>Age</th>\n",
       "      <th>SibSp</th>\n",
       "      <th>Parch</th>\n",
       "      <th>Ticket</th>\n",
       "      <th>Fare</th>\n",
       "      <th>Cabin</th>\n",
       "      <th>Embarked</th>\n",
       "    </tr>\n",
       "  </thead>\n",
       "  <tbody>\n",
       "    <tr>\n",
       "      <th>0</th>\n",
       "      <td>1</td>\n",
       "      <td>0</td>\n",
       "      <td>3</td>\n",
       "      <td>Braund, Mr. Owen Harris</td>\n",
       "      <td>male</td>\n",
       "      <td>22.0</td>\n",
       "      <td>1</td>\n",
       "      <td>0</td>\n",
       "      <td>A/5 21171</td>\n",
       "      <td>7.2500</td>\n",
       "      <td>NaN</td>\n",
       "      <td>S</td>\n",
       "    </tr>\n",
       "    <tr>\n",
       "      <th>1</th>\n",
       "      <td>2</td>\n",
       "      <td>1</td>\n",
       "      <td>1</td>\n",
       "      <td>Cumings, Mrs. John Bradley (Florence Briggs Th...</td>\n",
       "      <td>female</td>\n",
       "      <td>38.0</td>\n",
       "      <td>1</td>\n",
       "      <td>0</td>\n",
       "      <td>PC 17599</td>\n",
       "      <td>71.2833</td>\n",
       "      <td>C85</td>\n",
       "      <td>C</td>\n",
       "    </tr>\n",
       "    <tr>\n",
       "      <th>2</th>\n",
       "      <td>3</td>\n",
       "      <td>1</td>\n",
       "      <td>3</td>\n",
       "      <td>Heikkinen, Miss. Laina</td>\n",
       "      <td>female</td>\n",
       "      <td>26.0</td>\n",
       "      <td>0</td>\n",
       "      <td>0</td>\n",
       "      <td>STON/O2. 3101282</td>\n",
       "      <td>7.9250</td>\n",
       "      <td>NaN</td>\n",
       "      <td>S</td>\n",
       "    </tr>\n",
       "    <tr>\n",
       "      <th>3</th>\n",
       "      <td>4</td>\n",
       "      <td>1</td>\n",
       "      <td>1</td>\n",
       "      <td>Futrelle, Mrs. Jacques Heath (Lily May Peel)</td>\n",
       "      <td>female</td>\n",
       "      <td>35.0</td>\n",
       "      <td>1</td>\n",
       "      <td>0</td>\n",
       "      <td>113803</td>\n",
       "      <td>53.1000</td>\n",
       "      <td>C123</td>\n",
       "      <td>S</td>\n",
       "    </tr>\n",
       "    <tr>\n",
       "      <th>4</th>\n",
       "      <td>5</td>\n",
       "      <td>0</td>\n",
       "      <td>3</td>\n",
       "      <td>Allen, Mr. William Henry</td>\n",
       "      <td>male</td>\n",
       "      <td>35.0</td>\n",
       "      <td>0</td>\n",
       "      <td>0</td>\n",
       "      <td>373450</td>\n",
       "      <td>8.0500</td>\n",
       "      <td>NaN</td>\n",
       "      <td>S</td>\n",
       "    </tr>\n",
       "  </tbody>\n",
       "</table>\n",
       "</div>"
      ],
      "text/plain": [
       "   PassengerId  Survived  Pclass  \\\n",
       "0            1         0       3   \n",
       "1            2         1       1   \n",
       "2            3         1       3   \n",
       "3            4         1       1   \n",
       "4            5         0       3   \n",
       "\n",
       "                                                Name     Sex   Age  SibSp  \\\n",
       "0                            Braund, Mr. Owen Harris    male  22.0      1   \n",
       "1  Cumings, Mrs. John Bradley (Florence Briggs Th...  female  38.0      1   \n",
       "2                             Heikkinen, Miss. Laina  female  26.0      0   \n",
       "3       Futrelle, Mrs. Jacques Heath (Lily May Peel)  female  35.0      1   \n",
       "4                           Allen, Mr. William Henry    male  35.0      0   \n",
       "\n",
       "   Parch            Ticket     Fare Cabin Embarked  \n",
       "0      0         A/5 21171   7.2500   NaN        S  \n",
       "1      0          PC 17599  71.2833   C85        C  \n",
       "2      0  STON/O2. 3101282   7.9250   NaN        S  \n",
       "3      0            113803  53.1000  C123        S  \n",
       "4      0            373450   8.0500   NaN        S  "
      ]
     },
     "execution_count": 7,
     "metadata": {},
     "output_type": "execute_result"
    }
   ],
   "source": [
    "data.head()"
   ]
  },
  {
   "cell_type": "code",
   "execution_count": 8,
   "metadata": {
    "scrolled": true
   },
   "outputs": [
    {
     "data": {
      "text/plain": [
       "PassengerId      0\n",
       "Survived         0\n",
       "Pclass           0\n",
       "Name             0\n",
       "Sex              0\n",
       "Age            177\n",
       "SibSp            0\n",
       "Parch            0\n",
       "Ticket           0\n",
       "Fare             0\n",
       "Cabin          687\n",
       "Embarked         2\n",
       "dtype: int64"
      ]
     },
     "execution_count": 8,
     "metadata": {},
     "output_type": "execute_result"
    }
   ],
   "source": [
    "data.isnull().sum()sns"
   ]
  },
  {
   "cell_type": "markdown",
   "metadata": {},
   "source": [
    "Age, Cabin 및 Embarked에는 null 값이 있습니다. 나는 그들을 고치려고 노력할 것이다."
   ]
  },
  {
   "cell_type": "code",
   "execution_count": 11,
   "metadata": {},
   "outputs": [
    {
     "data": {
      "image/png": "[encoded data removed]",
      "text/plain": [
       "<Figure size 1296x576 with 2 Axes>"
      ]
     },
     "metadata": {
      "needs_background": "light"
     },
     "output_type": "display_data"
    }
   ],
   "source": [
    "f,ax=plt.subplots(1,2,figsize=(18,8))\n",
    "data['Survived'].value_counts().plot.pie(explode=[0,0.1],autopct='%1.1f%%',ax=ax[0],shadow=True)\n",
    "ax[0].set_title('Survived')\n",
    "ax[0].set_ylabel('')\n",
    "sns.countplot('Survived',data=data,ax=ax[1])\n",
    "ax[1].set_title('Survived')\n",
    "plt.show()"
   ]
  },
  {
   "cell_type": "markdown",
   "metadata": {},
   "source": [
    "사고로 살아남은 승객은 많지 않은 것이 분명합니다."
   ]
  },
  {
   "cell_type": "markdown",
   "metadata": {},
   "source": [
    "훈련 세트에 탑승 한 891 명의 승객 중 약 350 명만이 생존했습니다. 즉 전체 훈련 세트 중**38.4 %**만이 충돌에서 살아 남았습니다. 우리는 데이터에서 더 나은 통찰력을 얻고 더 많은 승객이 생존하지 못한 승객을 파악하기 위해 더 많은 정보를 조사해야합니다."
   ]
  },
  {
   "cell_type": "markdown",
   "metadata": {},
   "source": [
    "데이터 세트의 다른 기능을 사용하여 생존율을 확인하려고합니다. 특징 중 일부는 성별, 항만, 나이 등입니다."
   ]
  },
  {
   "cell_type": "markdown",
   "metadata": {},
   "source": [
    "먼저 다양한 유형의 기능을 이해하겠습니다."
   ]
  },
  {
   "cell_type": "markdown",
   "metadata": {},
   "source": [
    "## 기능의 종류"
   ]
  },
  {
   "cell_type": "markdown",
   "metadata": {},
   "source": [
    "### 범주 기능 :"
   ]
  },
  {
   "cell_type": "markdown",
   "metadata": {},
   "source": [
    "범주 형 변수는 둘 이상의 범주가있는 변수이며 해당 기능의 각 값을 범주별로 분류 할 수 있습니다. 예를 들어 성별은 두 가지 범주 (남성과 여성)를 갖는 범주 형 변수입니다. 이제 이러한 변수를 정렬하거나 정렬 할 수 없습니다. 또한 **명목 변수라고도합니다.**"
   ]
  },
  {
   "cell_type": "markdown",
   "metadata": {},
   "source": [
    "#### 데이터 세트의 범주 적 특징 : 성별, 당황."
   ]
  },
  {
   "cell_type": "markdown",
   "metadata": {},
   "source": [
    "### 서수 특징 :"
   ]
  },
  {
   "cell_type": "markdown",
   "metadata": {},
   "source": [
    "서수 변수는 범주 형 값과 비슷하지만 그 차이점은 값 사이의 상대 순서 또는 정렬이 가능하다는 것입니다. 예를 들어, \n",
    "**Tall, Medium, Short** 값을 가진 **Height**와 같은 기능이 있으면 Height는 순서 변수입니다. 여기서 변수에 상대적인 정렬을 할 수 있습니다."
   ]
  },
  {
   "cell_type": "markdown",
   "metadata": {},
   "source": [
    "### 데이터 세트의 서수 특징 : PClass"
   ]
  },
  {
   "cell_type": "markdown",
   "metadata": {},
   "source": [
    "### 지속적인 특징 :"
   ]
  },
  {
   "cell_type": "markdown",
   "metadata": {},
   "source": [
    "지형지 물 열의 두 지점 사이 또는 최소값 또는 최대 값 사이의 값을 사용할 수있는 경우 지형지 물은 연속적이라고합니다."
   ]
  },
  {
   "cell_type": "markdown",
   "metadata": {},
   "source": [
    "#### 데이터 세트의 지속적인 특징 : 나이"
   ]
  },
  {
   "cell_type": "markdown",
   "metadata": {},
   "source": [
    "## 데이터 세트의 지속적인 특징 : 나이"
   ]
  },
  {
   "cell_type": "markdown",
   "metadata": {},
   "source": [
    "### 성별 ㅡ> 범주 기능"
   ]
  },
  {
   "cell_type": "code",
   "execution_count": 18,
   "metadata": {},
   "outputs": [
    {
     "data": {
      "text/plain": [
       "Sex     Survived\n",
       "female  0            81\n",
       "        1           233\n",
       "male    0           468\n",
       "        1           109\n",
       "Name: Survived, dtype: int64"
      ]
     },
     "execution_count": 18,
     "metadata": {},
     "output_type": "execute_result"
    }
   ],
   "source": [
    "data.groupby(['Sex','Survived'])['Survived'].count()"
   ]
  },
  {
   "cell_type": "code",
   "execution_count": 21,
   "metadata": {},
   "outputs": [
    {
     "data": {
      "image/png": "[encoded data removed]",
      "text/plain": [
       "<Figure size 1296x576 with 2 Axes>"
      ]
     },
     "metadata": {
      "needs_background": "light"
     },
     "output_type": "display_data"
    }
   ],
   "source": [
    "f,ax=plt.subplots(1,2,figsize=(18,8))\n",
    "data[['Sex','Survived']].groupby(['Sex']).mean().plot.bar(ax=ax[0])\n",
    "ax[0].set_title('Survived VS Sex')\n",
    "sns.countplot('Sex',hue='Survived',data=data,ax=ax[1])\n",
    "ax[1].set_title('Sex:survived vs Dead')\n",
    "plt.show()"
   ]
  },
  {
   "cell_type": "markdown",
   "metadata": {},
   "source": [
    "이것은 흥미로워 보인다. 배에있는 남자의 수는 여자의 수보다 훨씬 많다. 여전히 여성 수는 남성 수의 거의 두 배입니다. 선박의 **여성의 생존율은 약 75 % 인 반면 남성의 생존율은 약 18-19 %입니다.**"
   ]
  },
  {
   "cell_type": "markdown",
   "metadata": {},
   "source": [
    "이것은 모델링에 **매우 중요한** 기능인 것 같습니다. 하지만 최고입니까? 다른 기능을 확인할 수 있습니다."
   ]
  },
  {
   "cell_type": "markdown",
   "metadata": {},
   "source": [
    "### Pclass ㅡ> 서수 특징"
   ]
  },
  {
   "cell_type": "code",
   "execution_count": 24,
   "metadata": {},
   "outputs": [
    {
     "data": {
      "text/html": [
       "<style  type=\"text/css\" >\n",
       "    #T_0eec86e2_cc98_11ea_907c_c0abcd2cd437row0_col0 {\n",
       "            background-color:  #ffff66;\n",
       "            color:  #000000;\n",
       "        }    #T_0eec86e2_cc98_11ea_907c_c0abcd2cd437row0_col1 {\n",
       "            background-color:  #cee666;\n",
       "            color:  #000000;\n",
       "        }    #T_0eec86e2_cc98_11ea_907c_c0abcd2cd437row0_col2 {\n",
       "            background-color:  #f4fa66;\n",
       "            color:  #000000;\n",
       "        }    #T_0eec86e2_cc98_11ea_907c_c0abcd2cd437row1_col0 {\n",
       "            background-color:  #f6fa66;\n",
       "            color:  #000000;\n",
       "        }    #T_0eec86e2_cc98_11ea_907c_c0abcd2cd437row1_col1 {\n",
       "            background-color:  #ffff66;\n",
       "            color:  #000000;\n",
       "        }    #T_0eec86e2_cc98_11ea_907c_c0abcd2cd437row1_col2 {\n",
       "            background-color:  #ffff66;\n",
       "            color:  #000000;\n",
       "        }    #T_0eec86e2_cc98_11ea_907c_c0abcd2cd437row2_col0 {\n",
       "            background-color:  #60b066;\n",
       "            color:  #000000;\n",
       "        }    #T_0eec86e2_cc98_11ea_907c_c0abcd2cd437row2_col1 {\n",
       "            background-color:  #dfef66;\n",
       "            color:  #000000;\n",
       "        }    #T_0eec86e2_cc98_11ea_907c_c0abcd2cd437row2_col2 {\n",
       "            background-color:  #90c866;\n",
       "            color:  #000000;\n",
       "        }    #T_0eec86e2_cc98_11ea_907c_c0abcd2cd437row3_col0 {\n",
       "            background-color:  #008066;\n",
       "            color:  #f1f1f1;\n",
       "        }    #T_0eec86e2_cc98_11ea_907c_c0abcd2cd437row3_col1 {\n",
       "            background-color:  #008066;\n",
       "            color:  #f1f1f1;\n",
       "        }    #T_0eec86e2_cc98_11ea_907c_c0abcd2cd437row3_col2 {\n",
       "            background-color:  #008066;\n",
       "            color:  #f1f1f1;\n",
       "        }</style><table id=\"T_0eec86e2_cc98_11ea_907c_c0abcd2cd437\" ><thead>    <tr>        <th class=\"index_name level0\" >Survived</th>        <th class=\"col_heading level0 col0\" >0</th>        <th class=\"col_heading level0 col1\" >1</th>        <th class=\"col_heading level0 col2\" >All</th>    </tr>    <tr>        <th class=\"index_name level0\" >Pclass</th>        <th class=\"blank\" ></th>        <th class=\"blank\" ></th>        <th class=\"blank\" ></th>    </tr></thead><tbody>\n",
       "                <tr>\n",
       "                        <th id=\"T_0eec86e2_cc98_11ea_907c_c0abcd2cd437level0_row0\" class=\"row_heading level0 row0\" >1</th>\n",
       "                        <td id=\"T_0eec86e2_cc98_11ea_907c_c0abcd2cd437row0_col0\" class=\"data row0 col0\" >80</td>\n",
       "                        <td id=\"T_0eec86e2_cc98_11ea_907c_c0abcd2cd437row0_col1\" class=\"data row0 col1\" >136</td>\n",
       "                        <td id=\"T_0eec86e2_cc98_11ea_907c_c0abcd2cd437row0_col2\" class=\"data row0 col2\" >216</td>\n",
       "            </tr>\n",
       "            <tr>\n",
       "                        <th id=\"T_0eec86e2_cc98_11ea_907c_c0abcd2cd437level0_row1\" class=\"row_heading level0 row1\" >2</th>\n",
       "                        <td id=\"T_0eec86e2_cc98_11ea_907c_c0abcd2cd437row1_col0\" class=\"data row1 col0\" >97</td>\n",
       "                        <td id=\"T_0eec86e2_cc98_11ea_907c_c0abcd2cd437row1_col1\" class=\"data row1 col1\" >87</td>\n",
       "                        <td id=\"T_0eec86e2_cc98_11ea_907c_c0abcd2cd437row1_col2\" class=\"data row1 col2\" >184</td>\n",
       "            </tr>\n",
       "            <tr>\n",
       "                        <th id=\"T_0eec86e2_cc98_11ea_907c_c0abcd2cd437level0_row2\" class=\"row_heading level0 row2\" >3</th>\n",
       "                        <td id=\"T_0eec86e2_cc98_11ea_907c_c0abcd2cd437row2_col0\" class=\"data row2 col0\" >372</td>\n",
       "                        <td id=\"T_0eec86e2_cc98_11ea_907c_c0abcd2cd437row2_col1\" class=\"data row2 col1\" >119</td>\n",
       "                        <td id=\"T_0eec86e2_cc98_11ea_907c_c0abcd2cd437row2_col2\" class=\"data row2 col2\" >491</td>\n",
       "            </tr>\n",
       "            <tr>\n",
       "                        <th id=\"T_0eec86e2_cc98_11ea_907c_c0abcd2cd437level0_row3\" class=\"row_heading level0 row3\" >All</th>\n",
       "                        <td id=\"T_0eec86e2_cc98_11ea_907c_c0abcd2cd437row3_col0\" class=\"data row3 col0\" >549</td>\n",
       "                        <td id=\"T_0eec86e2_cc98_11ea_907c_c0abcd2cd437row3_col1\" class=\"data row3 col1\" >342</td>\n",
       "                        <td id=\"T_0eec86e2_cc98_11ea_907c_c0abcd2cd437row3_col2\" class=\"data row3 col2\" >891</td>\n",
       "            </tr>\n",
       "    </tbody></table>"
      ],
      "text/plain": [
       "<pandas.io.formats.style.Styler at 0x23878170c88>"
      ]
     },
     "execution_count": 24,
     "metadata": {},
     "output_type": "execute_result"
    }
   ],
   "source": [
    "pd.crosstab(data.Pclass,data.Survived,margins=True).style.background_gradient(cmap='summer_r')"
   ]
  },
  {
   "cell_type": "code",
   "execution_count": 25,
   "metadata": {},
   "outputs": [
    {
     "data": {
      "image/png": "[encoded data removed]",
      "text/plain": [
       "<Figure size 1296x576 with 2 Axes>"
      ]
     },
     "metadata": {
      "needs_background": "light"
     },
     "output_type": "display_data"
    }
   ],
   "source": [
    "f,ax=plt.subplots(1,2,figsize=(18,8))\n",
    "data['Pclass'].value_counts(). plot.bar(color=['#CD7F32','#FFDF00','#D3D3D3'],ax=ax[0])\n",
    "ax[0].set_title('Number of Passengers By Pclass')\n",
    "ax[0].set_ylabel('count')\n",
    "sns.countplot('Pclass', hue='Survived', data=data, ax=ax[1])\n",
    "ax[1].set_title('Pclass:Survives vs Dead')\n",
    "plt.show()                                                                                   "
   ]
  },
  {
   "cell_type": "markdown",
   "metadata": {},
   "source": [
    "사람들은 **돈이 모든 것을 살 수 없다고 말합니다.** 그러나 Pclass 1의 Passenegers of Pclass 1은 구조하는 동안 매우 높은 우선 순위가 부여되었음을 분명히 알 수 있습니다. Pclass 3의 승객 수는 훨씬 많았지 만 여전히 **25 %** 정도의 생존률은 매우 낮습니다."
   ]
  },
  {
   "cell_type": "markdown",
   "metadata": {},
   "source": [
    "Pclass 1의 경우 생존율은 약 **63 %**이고 Pclass2의 경우 약 **48 %**입니다. 돈과 지위가 중요합니다. 그런 물질주의 세계."
   ]
  },
  {
   "cell_type": "markdown",
   "metadata": {},
   "source": [
    "조금 더 뛰어 들고 다른 흥미로운 관찰을 확인하십시오. Sex와 Pclass Together로 **생존율**을 확인할 수 있습니다."
   ]
  },
  {
   "cell_type": "code",
   "execution_count": 32,
   "metadata": {},
   "outputs": [
    {
     "data": {
      "text/html": [
       "<style  type=\"text/css\" >\n",
       "    #T_b6bdb880_cc99_11ea_9903_c0abcd2cd437row0_col0 {\n",
       "            background-color:  #ffff66;\n",
       "            color:  #000000;\n",
       "        }    #T_b6bdb880_cc99_11ea_9903_c0abcd2cd437row0_col1 {\n",
       "            background-color:  #ffff66;\n",
       "            color:  #000000;\n",
       "        }    #T_b6bdb880_cc99_11ea_9903_c0abcd2cd437row0_col2 {\n",
       "            background-color:  #f1f866;\n",
       "            color:  #000000;\n",
       "        }    #T_b6bdb880_cc99_11ea_9903_c0abcd2cd437row0_col3 {\n",
       "            background-color:  #ffff66;\n",
       "            color:  #000000;\n",
       "        }    #T_b6bdb880_cc99_11ea_9903_c0abcd2cd437row1_col0 {\n",
       "            background-color:  #96cb66;\n",
       "            color:  #000000;\n",
       "        }    #T_b6bdb880_cc99_11ea_9903_c0abcd2cd437row1_col1 {\n",
       "            background-color:  #a3d166;\n",
       "            color:  #000000;\n",
       "        }    #T_b6bdb880_cc99_11ea_9903_c0abcd2cd437row1_col2 {\n",
       "            background-color:  #f1f866;\n",
       "            color:  #000000;\n",
       "        }    #T_b6bdb880_cc99_11ea_9903_c0abcd2cd437row1_col3 {\n",
       "            background-color:  #cfe766;\n",
       "            color:  #000000;\n",
       "        }    #T_b6bdb880_cc99_11ea_9903_c0abcd2cd437row2_col0 {\n",
       "            background-color:  #a7d366;\n",
       "            color:  #000000;\n",
       "        }    #T_b6bdb880_cc99_11ea_9903_c0abcd2cd437row2_col1 {\n",
       "            background-color:  #85c266;\n",
       "            color:  #000000;\n",
       "        }    #T_b6bdb880_cc99_11ea_9903_c0abcd2cd437row2_col2 {\n",
       "            background-color:  #6eb666;\n",
       "            color:  #000000;\n",
       "        }    #T_b6bdb880_cc99_11ea_9903_c0abcd2cd437row2_col3 {\n",
       "            background-color:  #85c266;\n",
       "            color:  #000000;\n",
       "        }    #T_b6bdb880_cc99_11ea_9903_c0abcd2cd437row3_col0 {\n",
       "            background-color:  #cde666;\n",
       "            color:  #000000;\n",
       "        }    #T_b6bdb880_cc99_11ea_9903_c0abcd2cd437row3_col1 {\n",
       "            background-color:  #f0f866;\n",
       "            color:  #000000;\n",
       "        }    #T_b6bdb880_cc99_11ea_9903_c0abcd2cd437row3_col2 {\n",
       "            background-color:  #ffff66;\n",
       "            color:  #000000;\n",
       "        }    #T_b6bdb880_cc99_11ea_9903_c0abcd2cd437row3_col3 {\n",
       "            background-color:  #f7fb66;\n",
       "            color:  #000000;\n",
       "        }    #T_b6bdb880_cc99_11ea_9903_c0abcd2cd437row4_col0 {\n",
       "            background-color:  #008066;\n",
       "            color:  #f1f1f1;\n",
       "        }    #T_b6bdb880_cc99_11ea_9903_c0abcd2cd437row4_col1 {\n",
       "            background-color:  #008066;\n",
       "            color:  #f1f1f1;\n",
       "        }    #T_b6bdb880_cc99_11ea_9903_c0abcd2cd437row4_col2 {\n",
       "            background-color:  #008066;\n",
       "            color:  #f1f1f1;\n",
       "        }    #T_b6bdb880_cc99_11ea_9903_c0abcd2cd437row4_col3 {\n",
       "            background-color:  #008066;\n",
       "            color:  #f1f1f1;\n",
       "        }</style><table id=\"T_b6bdb880_cc99_11ea_9903_c0abcd2cd437\" ><thead>    <tr>        <th class=\"blank\" ></th>        <th class=\"index_name level0\" >Pclass</th>        <th class=\"col_heading level0 col0\" >1</th>        <th class=\"col_heading level0 col1\" >2</th>        <th class=\"col_heading level0 col2\" >3</th>        <th class=\"col_heading level0 col3\" >All</th>    </tr>    <tr>        <th class=\"index_name level0\" >Sex</th>        <th class=\"index_name level1\" >Survived</th>        <th class=\"blank\" ></th>        <th class=\"blank\" ></th>        <th class=\"blank\" ></th>        <th class=\"blank\" ></th>    </tr></thead><tbody>\n",
       "                <tr>\n",
       "                        <th id=\"T_b6bdb880_cc99_11ea_9903_c0abcd2cd437level0_row0\" class=\"row_heading level0 row0\" rowspan=2>female</th>\n",
       "                        <th id=\"T_b6bdb880_cc99_11ea_9903_c0abcd2cd437level1_row0\" class=\"row_heading level1 row0\" >0</th>\n",
       "                        <td id=\"T_b6bdb880_cc99_11ea_9903_c0abcd2cd437row0_col0\" class=\"data row0 col0\" >3</td>\n",
       "                        <td id=\"T_b6bdb880_cc99_11ea_9903_c0abcd2cd437row0_col1\" class=\"data row0 col1\" >6</td>\n",
       "                        <td id=\"T_b6bdb880_cc99_11ea_9903_c0abcd2cd437row0_col2\" class=\"data row0 col2\" >72</td>\n",
       "                        <td id=\"T_b6bdb880_cc99_11ea_9903_c0abcd2cd437row0_col3\" class=\"data row0 col3\" >81</td>\n",
       "            </tr>\n",
       "            <tr>\n",
       "                                <th id=\"T_b6bdb880_cc99_11ea_9903_c0abcd2cd437level1_row1\" class=\"row_heading level1 row1\" >1</th>\n",
       "                        <td id=\"T_b6bdb880_cc99_11ea_9903_c0abcd2cd437row1_col0\" class=\"data row1 col0\" >91</td>\n",
       "                        <td id=\"T_b6bdb880_cc99_11ea_9903_c0abcd2cd437row1_col1\" class=\"data row1 col1\" >70</td>\n",
       "                        <td id=\"T_b6bdb880_cc99_11ea_9903_c0abcd2cd437row1_col2\" class=\"data row1 col2\" >72</td>\n",
       "                        <td id=\"T_b6bdb880_cc99_11ea_9903_c0abcd2cd437row1_col3\" class=\"data row1 col3\" >233</td>\n",
       "            </tr>\n",
       "            <tr>\n",
       "                        <th id=\"T_b6bdb880_cc99_11ea_9903_c0abcd2cd437level0_row2\" class=\"row_heading level0 row2\" rowspan=2>male</th>\n",
       "                        <th id=\"T_b6bdb880_cc99_11ea_9903_c0abcd2cd437level1_row2\" class=\"row_heading level1 row2\" >0</th>\n",
       "                        <td id=\"T_b6bdb880_cc99_11ea_9903_c0abcd2cd437row2_col0\" class=\"data row2 col0\" >77</td>\n",
       "                        <td id=\"T_b6bdb880_cc99_11ea_9903_c0abcd2cd437row2_col1\" class=\"data row2 col1\" >91</td>\n",
       "                        <td id=\"T_b6bdb880_cc99_11ea_9903_c0abcd2cd437row2_col2\" class=\"data row2 col2\" >300</td>\n",
       "                        <td id=\"T_b6bdb880_cc99_11ea_9903_c0abcd2cd437row2_col3\" class=\"data row2 col3\" >468</td>\n",
       "            </tr>\n",
       "            <tr>\n",
       "                                <th id=\"T_b6bdb880_cc99_11ea_9903_c0abcd2cd437level1_row3\" class=\"row_heading level1 row3\" >1</th>\n",
       "                        <td id=\"T_b6bdb880_cc99_11ea_9903_c0abcd2cd437row3_col0\" class=\"data row3 col0\" >45</td>\n",
       "                        <td id=\"T_b6bdb880_cc99_11ea_9903_c0abcd2cd437row3_col1\" class=\"data row3 col1\" >17</td>\n",
       "                        <td id=\"T_b6bdb880_cc99_11ea_9903_c0abcd2cd437row3_col2\" class=\"data row3 col2\" >47</td>\n",
       "                        <td id=\"T_b6bdb880_cc99_11ea_9903_c0abcd2cd437row3_col3\" class=\"data row3 col3\" >109</td>\n",
       "            </tr>\n",
       "            <tr>\n",
       "                        <th id=\"T_b6bdb880_cc99_11ea_9903_c0abcd2cd437level0_row4\" class=\"row_heading level0 row4\" >All</th>\n",
       "                        <th id=\"T_b6bdb880_cc99_11ea_9903_c0abcd2cd437level1_row4\" class=\"row_heading level1 row4\" ></th>\n",
       "                        <td id=\"T_b6bdb880_cc99_11ea_9903_c0abcd2cd437row4_col0\" class=\"data row4 col0\" >216</td>\n",
       "                        <td id=\"T_b6bdb880_cc99_11ea_9903_c0abcd2cd437row4_col1\" class=\"data row4 col1\" >184</td>\n",
       "                        <td id=\"T_b6bdb880_cc99_11ea_9903_c0abcd2cd437row4_col2\" class=\"data row4 col2\" >491</td>\n",
       "                        <td id=\"T_b6bdb880_cc99_11ea_9903_c0abcd2cd437row4_col3\" class=\"data row4 col3\" >891</td>\n",
       "            </tr>\n",
       "    </tbody></table>"
      ],
      "text/plain": [
       "<pandas.io.formats.style.Styler at 0x23870c6fa08>"
      ]
     },
     "execution_count": 32,
     "metadata": {},
     "output_type": "execute_result"
    }
   ],
   "source": [
    "pd.crosstab([data.Sex,data.Survived],data.Pclass,margins=True).style.background_gradient(cmap='summer_r')"
   ]
  },
  {
   "cell_type": "code",
   "execution_count": 35,
   "metadata": {},
   "outputs": [
    {
     "data": {
      "image/png": "[encoded data removed]",
      "text/plain": [
       "<Figure size 430.5x360 with 1 Axes>"
      ]
     },
     "metadata": {
      "needs_background": "light"
     },
     "output_type": "display_data"
    }
   ],
   "source": [
    "sns.factorplot('Pclass','Survived',hue='Sex',data=data)\n",
    "plt.show()"
   ]
  },
  {
   "cell_type": "markdown",
   "metadata": {},
   "source": [
    "이 경우 **FactorPlot**을 사용합니다. 범주 형 값을 쉽게 분리 할 수 ​​있기 때문입니다."
   ]
  },
  {
   "cell_type": "markdown",
   "metadata": {},
   "source": [
    "**CrossTab**과 **FactorPlot**을 살펴보면 Pclass1에서 94 명의 **여성 중 3 명만이 사망 한 것처럼 Pclass1에서 여성의 생존율은 약 95-96%**임을 쉽게 알 수 있습니다."
   ]
  },
  {
   "cell_type": "markdown",
   "metadata": {},
   "source": [
    "Pclass와 상관없이 구출하는 동안 여성에게 최우선 순위가 부여 된 것은 분명합니다. Pclass1의 남성조차도 생존율이 매우 낮습니다."
   ]
  },
  {
   "cell_type": "markdown",
   "metadata": {},
   "source": [
    "Pclass도 중요한 기능인 것 같습니다. 다른 기능을 분석 할 수 있습니다."
   ]
  },
  {
   "cell_type": "markdown",
   "metadata": {},
   "source": [
    "## 나이 ㅡ> 지속적인 특징"
   ]
  },
  {
   "cell_type": "code",
   "execution_count": 37,
   "metadata": {},
   "outputs": [
    {
     "name": "stdout",
     "output_type": "stream",
     "text": [
      "Oldest Passenger was of: 80.0 Years\n",
      "Youngest Passenger was of: 0.42 Years\n",
      "Average Age in the ship: 29.69911764705882 Years\n"
     ]
    }
   ],
   "source": [
    "print('Oldest Passenger was of:',data['Age'].max(),'Years')\n",
    "print('Youngest Passenger was of:',data['Age'].min(),'Years')\n",
    "print('Average Age in the ship:',data['Age'].mean(),'Years')"
   ]
  },
  {
   "cell_type": "code",
   "execution_count": 41,
   "metadata": {},
   "outputs": [
    {
     "data": {
      "image/png": "[encoded data removed]",
      "text/plain": [
       "<Figure size 1296x576 with 2 Axes>"
      ]
     },
     "metadata": {
      "needs_background": "light"
     },
     "output_type": "display_data"
    }
   ],
   "source": [
    "f,ax=plt.subplots(1,2,figsize=(18,8))\n",
    "sns.violinplot(\"Pclass\",\"Age\", hue=\"Survived\", data=data,split=True,ax=ax[0])\n",
    "ax[0].set_title('Plcass and Age vs Survived')\n",
    "ax[0].set_yticks(range(0,110,10))\n",
    "sns.violinplot(\"Sex\",\"Age\", hue=\"Survived\", data=data,split=True,ax=ax[1])\n",
    "ax[1].set_title('Sex and Age vs Surrvived')\n",
    "ax[1].set_yticks(range(0,110,10))\n",
    "plt.show()"
   ]
  },
  {
   "cell_type": "markdown",
   "metadata": {},
   "source": [
    "### 관찰 :"
   ]
  },
  {
   "cell_type": "markdown",
   "metadata": {},
   "source": [
    "1) Pclass에 따라 어린이 수가 증가하고 10 세 미만의 어린이 (즉, 어린이)의 생존율은 Pclass에 상관없이 양호 해 보입니다."
   ]
  },
  {
   "cell_type": "markdown",
   "metadata": {},
   "source": [
    "2) Pclass1에서 20-50 세의 Passenegers 생존 가능성은 높고 여성에게는 더 좋습니다."
   ]
  },
  {
   "cell_type": "markdown",
   "metadata": {},
   "source": [
    "3) 남성의 경우 생존 확률은 나이가 증가함에 따라 감소합니다."
   ]
  },
  {
   "cell_type": "markdown",
   "metadata": {},
   "source": [
    "앞에서 보았 듯이 Age 기능에는 **177** 개의 null 값이 있습니다. 이러한 NaN 값을 대체하기 위해 데이터 집합의 평균 수명을 지정할 수 있습니다."
   ]
  },
  {
   "cell_type": "markdown",
   "metadata": {},
   "source": [
    "그러나 문제는 나이가 많은 많은 사람들이 있다는 것입니다. 우리는 평균 연령이 29 세인 4 세 아이를 배정 할 수 없습니다. 승객이 어떤 연령대에 있는지 알 수있는 방법이 있습니까?"
   ]
  },
  {
   "cell_type": "markdown",
   "metadata": {},
   "source": [
    "**빙고 !!!!** <br>\n",
    "**이름** 기능을 확인할 수 있습니다. 이 기능을 살펴보면 이름에 Mr 또는 Mrs와 같은 인사말이 있음을 알 수 있으므로 Mr 및 Mrs의 평균 값을 각 그룹에 할당 할 수 있습니다."
   ]
  },
  {
   "cell_type": "markdown",
   "metadata": {},
   "source": [
    "## ''컬럼에 무엇이 있습니까 ?? ''---> Feature : p"
   ]
  },
  {
   "cell_type": "code",
   "execution_count": 52,
   "metadata": {},
   "outputs": [],
   "source": [
    "data['Initial']=0\n",
    "for i in data:\n",
    "    data['Initial']=data.Name.str.extract('([A-Za-z]+)\\.')"
   ]
  },
  {
   "cell_type": "markdown",
   "metadata": {},
   "source": [
    " #lets extract the Salutations"
   ]
  },
  {
   "cell_type": "markdown",
   "metadata": {},
   "source": [
    "자 이제 여기 정규식을 사용하고 있습니다 : [A-Za-z] +). 그것이하는 것은 A-Z 또는 a-z 사이에 있고. (점)이 오는 문자열을 찾는 것입니다. 따라서 이름에서 이니셜을 성공적으로 추출합니다."
   ]
  },
  {
   "cell_type": "code",
   "execution_count": 57,
   "metadata": {},
   "outputs": [
    {
     "data": {
      "text/html": [
       "<style  type=\"text/css\" >\n",
       "    #T_eccec32e_ccb3_11ea_978f_c0abcd2cd437row0_col0 {\n",
       "            background-color:  #ffff66;\n",
       "            color:  #000000;\n",
       "        }    #T_eccec32e_ccb3_11ea_978f_c0abcd2cd437row0_col1 {\n",
       "            background-color:  #ffff66;\n",
       "            color:  #000000;\n",
       "        }    #T_eccec32e_ccb3_11ea_978f_c0abcd2cd437row0_col2 {\n",
       "            background-color:  #008066;\n",
       "            color:  #f1f1f1;\n",
       "        }    #T_eccec32e_ccb3_11ea_978f_c0abcd2cd437row0_col3 {\n",
       "            background-color:  #ffff66;\n",
       "            color:  #000000;\n",
       "        }    #T_eccec32e_ccb3_11ea_978f_c0abcd2cd437row0_col4 {\n",
       "            background-color:  #ffff66;\n",
       "            color:  #000000;\n",
       "        }    #T_eccec32e_ccb3_11ea_978f_c0abcd2cd437row0_col5 {\n",
       "            background-color:  #ffff66;\n",
       "            color:  #000000;\n",
       "        }    #T_eccec32e_ccb3_11ea_978f_c0abcd2cd437row0_col6 {\n",
       "            background-color:  #008066;\n",
       "            color:  #f1f1f1;\n",
       "        }    #T_eccec32e_ccb3_11ea_978f_c0abcd2cd437row0_col7 {\n",
       "            background-color:  #ffff66;\n",
       "            color:  #000000;\n",
       "        }    #T_eccec32e_ccb3_11ea_978f_c0abcd2cd437row0_col8 {\n",
       "            background-color:  #ffff66;\n",
       "            color:  #000000;\n",
       "        }    #T_eccec32e_ccb3_11ea_978f_c0abcd2cd437row0_col9 {\n",
       "            background-color:  #008066;\n",
       "            color:  #f1f1f1;\n",
       "        }    #T_eccec32e_ccb3_11ea_978f_c0abcd2cd437row0_col10 {\n",
       "            background-color:  #008066;\n",
       "            color:  #f1f1f1;\n",
       "        }    #T_eccec32e_ccb3_11ea_978f_c0abcd2cd437row0_col11 {\n",
       "            background-color:  #008066;\n",
       "            color:  #f1f1f1;\n",
       "        }    #T_eccec32e_ccb3_11ea_978f_c0abcd2cd437row0_col12 {\n",
       "            background-color:  #ffff66;\n",
       "            color:  #000000;\n",
       "        }    #T_eccec32e_ccb3_11ea_978f_c0abcd2cd437row0_col13 {\n",
       "            background-color:  #008066;\n",
       "            color:  #f1f1f1;\n",
       "        }    #T_eccec32e_ccb3_11ea_978f_c0abcd2cd437row0_col14 {\n",
       "            background-color:  #008066;\n",
       "            color:  #f1f1f1;\n",
       "        }    #T_eccec32e_ccb3_11ea_978f_c0abcd2cd437row0_col15 {\n",
       "            background-color:  #ffff66;\n",
       "            color:  #000000;\n",
       "        }    #T_eccec32e_ccb3_11ea_978f_c0abcd2cd437row0_col16 {\n",
       "            background-color:  #ffff66;\n",
       "            color:  #000000;\n",
       "        }    #T_eccec32e_ccb3_11ea_978f_c0abcd2cd437row1_col0 {\n",
       "            background-color:  #008066;\n",
       "            color:  #f1f1f1;\n",
       "        }    #T_eccec32e_ccb3_11ea_978f_c0abcd2cd437row1_col1 {\n",
       "            background-color:  #008066;\n",
       "            color:  #f1f1f1;\n",
       "        }    #T_eccec32e_ccb3_11ea_978f_c0abcd2cd437row1_col2 {\n",
       "            background-color:  #ffff66;\n",
       "            color:  #000000;\n",
       "        }    #T_eccec32e_ccb3_11ea_978f_c0abcd2cd437row1_col3 {\n",
       "            background-color:  #008066;\n",
       "            color:  #f1f1f1;\n",
       "        }    #T_eccec32e_ccb3_11ea_978f_c0abcd2cd437row1_col4 {\n",
       "            background-color:  #008066;\n",
       "            color:  #f1f1f1;\n",
       "        }    #T_eccec32e_ccb3_11ea_978f_c0abcd2cd437row1_col5 {\n",
       "            background-color:  #008066;\n",
       "            color:  #f1f1f1;\n",
       "        }    #T_eccec32e_ccb3_11ea_978f_c0abcd2cd437row1_col6 {\n",
       "            background-color:  #ffff66;\n",
       "            color:  #000000;\n",
       "        }    #T_eccec32e_ccb3_11ea_978f_c0abcd2cd437row1_col7 {\n",
       "            background-color:  #008066;\n",
       "            color:  #f1f1f1;\n",
       "        }    #T_eccec32e_ccb3_11ea_978f_c0abcd2cd437row1_col8 {\n",
       "            background-color:  #008066;\n",
       "            color:  #f1f1f1;\n",
       "        }    #T_eccec32e_ccb3_11ea_978f_c0abcd2cd437row1_col9 {\n",
       "            background-color:  #ffff66;\n",
       "            color:  #000000;\n",
       "        }    #T_eccec32e_ccb3_11ea_978f_c0abcd2cd437row1_col10 {\n",
       "            background-color:  #ffff66;\n",
       "            color:  #000000;\n",
       "        }    #T_eccec32e_ccb3_11ea_978f_c0abcd2cd437row1_col11 {\n",
       "            background-color:  #ffff66;\n",
       "            color:  #000000;\n",
       "        }    #T_eccec32e_ccb3_11ea_978f_c0abcd2cd437row1_col12 {\n",
       "            background-color:  #008066;\n",
       "            color:  #f1f1f1;\n",
       "        }    #T_eccec32e_ccb3_11ea_978f_c0abcd2cd437row1_col13 {\n",
       "            background-color:  #ffff66;\n",
       "            color:  #000000;\n",
       "        }    #T_eccec32e_ccb3_11ea_978f_c0abcd2cd437row1_col14 {\n",
       "            background-color:  #ffff66;\n",
       "            color:  #000000;\n",
       "        }    #T_eccec32e_ccb3_11ea_978f_c0abcd2cd437row1_col15 {\n",
       "            background-color:  #008066;\n",
       "            color:  #f1f1f1;\n",
       "        }    #T_eccec32e_ccb3_11ea_978f_c0abcd2cd437row1_col16 {\n",
       "            background-color:  #008066;\n",
       "            color:  #f1f1f1;\n",
       "        }</style><table id=\"T_eccec32e_ccb3_11ea_978f_c0abcd2cd437\" ><thead>    <tr>        <th class=\"index_name level0\" >Initial</th>        <th class=\"col_heading level0 col0\" >Capt</th>        <th class=\"col_heading level0 col1\" >Col</th>        <th class=\"col_heading level0 col2\" >Countess</th>        <th class=\"col_heading level0 col3\" >Don</th>        <th class=\"col_heading level0 col4\" >Dr</th>        <th class=\"col_heading level0 col5\" >Jonkheer</th>        <th class=\"col_heading level0 col6\" >Lady</th>        <th class=\"col_heading level0 col7\" >Major</th>        <th class=\"col_heading level0 col8\" >Master</th>        <th class=\"col_heading level0 col9\" >Miss</th>        <th class=\"col_heading level0 col10\" >Mlle</th>        <th class=\"col_heading level0 col11\" >Mme</th>        <th class=\"col_heading level0 col12\" >Mr</th>        <th class=\"col_heading level0 col13\" >Mrs</th>        <th class=\"col_heading level0 col14\" >Ms</th>        <th class=\"col_heading level0 col15\" >Rev</th>        <th class=\"col_heading level0 col16\" >Sir</th>    </tr>    <tr>        <th class=\"index_name level0\" >Sex</th>        <th class=\"blank\" ></th>        <th class=\"blank\" ></th>        <th class=\"blank\" ></th>        <th class=\"blank\" ></th>        <th class=\"blank\" ></th>        <th class=\"blank\" ></th>        <th class=\"blank\" ></th>        <th class=\"blank\" ></th>        <th class=\"blank\" ></th>        <th class=\"blank\" ></th>        <th class=\"blank\" ></th>        <th class=\"blank\" ></th>        <th class=\"blank\" ></th>        <th class=\"blank\" ></th>        <th class=\"blank\" ></th>        <th class=\"blank\" ></th>        <th class=\"blank\" ></th>    </tr></thead><tbody>\n",
       "                <tr>\n",
       "                        <th id=\"T_eccec32e_ccb3_11ea_978f_c0abcd2cd437level0_row0\" class=\"row_heading level0 row0\" >female</th>\n",
       "                        <td id=\"T_eccec32e_ccb3_11ea_978f_c0abcd2cd437row0_col0\" class=\"data row0 col0\" >0</td>\n",
       "                        <td id=\"T_eccec32e_ccb3_11ea_978f_c0abcd2cd437row0_col1\" class=\"data row0 col1\" >0</td>\n",
       "                        <td id=\"T_eccec32e_ccb3_11ea_978f_c0abcd2cd437row0_col2\" class=\"data row0 col2\" >1</td>\n",
       "                        <td id=\"T_eccec32e_ccb3_11ea_978f_c0abcd2cd437row0_col3\" class=\"data row0 col3\" >0</td>\n",
       "                        <td id=\"T_eccec32e_ccb3_11ea_978f_c0abcd2cd437row0_col4\" class=\"data row0 col4\" >1</td>\n",
       "                        <td id=\"T_eccec32e_ccb3_11ea_978f_c0abcd2cd437row0_col5\" class=\"data row0 col5\" >0</td>\n",
       "                        <td id=\"T_eccec32e_ccb3_11ea_978f_c0abcd2cd437row0_col6\" class=\"data row0 col6\" >1</td>\n",
       "                        <td id=\"T_eccec32e_ccb3_11ea_978f_c0abcd2cd437row0_col7\" class=\"data row0 col7\" >0</td>\n",
       "                        <td id=\"T_eccec32e_ccb3_11ea_978f_c0abcd2cd437row0_col8\" class=\"data row0 col8\" >0</td>\n",
       "                        <td id=\"T_eccec32e_ccb3_11ea_978f_c0abcd2cd437row0_col9\" class=\"data row0 col9\" >182</td>\n",
       "                        <td id=\"T_eccec32e_ccb3_11ea_978f_c0abcd2cd437row0_col10\" class=\"data row0 col10\" >2</td>\n",
       "                        <td id=\"T_eccec32e_ccb3_11ea_978f_c0abcd2cd437row0_col11\" class=\"data row0 col11\" >1</td>\n",
       "                        <td id=\"T_eccec32e_ccb3_11ea_978f_c0abcd2cd437row0_col12\" class=\"data row0 col12\" >0</td>\n",
       "                        <td id=\"T_eccec32e_ccb3_11ea_978f_c0abcd2cd437row0_col13\" class=\"data row0 col13\" >125</td>\n",
       "                        <td id=\"T_eccec32e_ccb3_11ea_978f_c0abcd2cd437row0_col14\" class=\"data row0 col14\" >1</td>\n",
       "                        <td id=\"T_eccec32e_ccb3_11ea_978f_c0abcd2cd437row0_col15\" class=\"data row0 col15\" >0</td>\n",
       "                        <td id=\"T_eccec32e_ccb3_11ea_978f_c0abcd2cd437row0_col16\" class=\"data row0 col16\" >0</td>\n",
       "            </tr>\n",
       "            <tr>\n",
       "                        <th id=\"T_eccec32e_ccb3_11ea_978f_c0abcd2cd437level0_row1\" class=\"row_heading level0 row1\" >male</th>\n",
       "                        <td id=\"T_eccec32e_ccb3_11ea_978f_c0abcd2cd437row1_col0\" class=\"data row1 col0\" >1</td>\n",
       "                        <td id=\"T_eccec32e_ccb3_11ea_978f_c0abcd2cd437row1_col1\" class=\"data row1 col1\" >2</td>\n",
       "                        <td id=\"T_eccec32e_ccb3_11ea_978f_c0abcd2cd437row1_col2\" class=\"data row1 col2\" >0</td>\n",
       "                        <td id=\"T_eccec32e_ccb3_11ea_978f_c0abcd2cd437row1_col3\" class=\"data row1 col3\" >1</td>\n",
       "                        <td id=\"T_eccec32e_ccb3_11ea_978f_c0abcd2cd437row1_col4\" class=\"data row1 col4\" >6</td>\n",
       "                        <td id=\"T_eccec32e_ccb3_11ea_978f_c0abcd2cd437row1_col5\" class=\"data row1 col5\" >1</td>\n",
       "                        <td id=\"T_eccec32e_ccb3_11ea_978f_c0abcd2cd437row1_col6\" class=\"data row1 col6\" >0</td>\n",
       "                        <td id=\"T_eccec32e_ccb3_11ea_978f_c0abcd2cd437row1_col7\" class=\"data row1 col7\" >2</td>\n",
       "                        <td id=\"T_eccec32e_ccb3_11ea_978f_c0abcd2cd437row1_col8\" class=\"data row1 col8\" >40</td>\n",
       "                        <td id=\"T_eccec32e_ccb3_11ea_978f_c0abcd2cd437row1_col9\" class=\"data row1 col9\" >0</td>\n",
       "                        <td id=\"T_eccec32e_ccb3_11ea_978f_c0abcd2cd437row1_col10\" class=\"data row1 col10\" >0</td>\n",
       "                        <td id=\"T_eccec32e_ccb3_11ea_978f_c0abcd2cd437row1_col11\" class=\"data row1 col11\" >0</td>\n",
       "                        <td id=\"T_eccec32e_ccb3_11ea_978f_c0abcd2cd437row1_col12\" class=\"data row1 col12\" >517</td>\n",
       "                        <td id=\"T_eccec32e_ccb3_11ea_978f_c0abcd2cd437row1_col13\" class=\"data row1 col13\" >0</td>\n",
       "                        <td id=\"T_eccec32e_ccb3_11ea_978f_c0abcd2cd437row1_col14\" class=\"data row1 col14\" >0</td>\n",
       "                        <td id=\"T_eccec32e_ccb3_11ea_978f_c0abcd2cd437row1_col15\" class=\"data row1 col15\" >6</td>\n",
       "                        <td id=\"T_eccec32e_ccb3_11ea_978f_c0abcd2cd437row1_col16\" class=\"data row1 col16\" >1</td>\n",
       "            </tr>\n",
       "    </tbody></table>"
      ],
      "text/plain": [
       "<pandas.io.formats.style.Styler at 0x23877e4a308>"
      ]
     },
     "execution_count": 57,
     "metadata": {},
     "output_type": "execute_result"
    }
   ],
   "source": [
    "pd.crosstab(data.Initial,data.Sex).T.style.background_gradient(cmap='summer_r')"
   ]
  },
  {
   "cell_type": "markdown",
   "metadata": {},
   "source": [
    "#Checking the Initials with the Sex"
   ]
  },
  {
   "cell_type": "markdown",
   "metadata": {},
   "source": [
    "Mlle이나 Mme과 같이 맞춤법이 틀린 이니셜이 Miss를 뜻하는 것이므로 Miss와 다른 값으로 대체 할 것입니다."
   ]
  },
  {
   "cell_type": "code",
   "execution_count": 61,
   "metadata": {},
   "outputs": [],
   "source": [
    "data['Initial'].replace(['Mlle','Mme','Ms','Dr','Major','Lady','Countess','Jonkheer','Col','Rev','Capt','Sir','Don'],['Miss','Miss','Miss','Mr','Mr','Mrs','Mrs','Other','Other','Other','Mr','Mr','Mr'], inplace=True)"
   ]
  },
  {
   "cell_type": "code",
   "execution_count": 59,
   "metadata": {},
   "outputs": [
    {
     "data": {
      "text/plain": [
       "Initial\n",
       "Master     4.574167\n",
       "Miss      21.860000\n",
       "Mr        32.739609\n",
       "Mrs       35.981818\n",
       "Other     45.888889\n",
       "Name: Age, dtype: float64"
      ]
     },
     "execution_count": 59,
     "metadata": {},
     "output_type": "execute_result"
    }
   ],
   "source": [
    "data.groupby('Initial')['Age'].mean()"
   ]
  },
  {
   "cell_type": "markdown",
   "metadata": {},
   "source": [
    " #lets check the average age by Initials"
   ]
  },
  {
   "cell_type": "markdown",
   "metadata": {},
   "source": [
    "## 나이별 NAN 값"
   ]
  },
  {
   "cell_type": "code",
   "execution_count": 63,
   "metadata": {},
   "outputs": [],
   "source": [
    "## Assigning the NaN Values with the Ceil values of the mean ages"
   ]
  },
  {
   "cell_type": "code",
   "execution_count": 70,
   "metadata": {},
   "outputs": [],
   "source": [
    "data.loc[(data.Age.isnull()) & (data.Initial == 'Mr'),'Age'] = 33\n",
    "data.loc[(data.Age.isnull()) & (data.Initial == 'Mrs'),'Age'] = 36\n",
    "data.loc[(data.Age.isnull()) & (data.Initial == 'Master'),'Age'] = 5\n",
    "data.loc[(data.Age.isnull()) & (data.Initial == 'Miss'),'Age'] = 22\n",
    "data.loc[(data.Age.isnull()) & (data.Initial == 'Other'),'Age'] = 46"
   ]
  },
  {
   "cell_type": "code",
   "execution_count": 74,
   "metadata": {},
   "outputs": [
    {
     "data": {
      "text/plain": [
       "Initial\n",
       "Master     4.616750\n",
       "Miss      21.887097\n",
       "Mr        32.798677\n",
       "Mrs       35.984252\n",
       "Other     45.888889\n",
       "Name: Age, dtype: float64"
      ]
     },
     "execution_count": 74,
     "metadata": {},
     "output_type": "execute_result"
    }
   ],
   "source": [
    "data.groupby('Initial')['Age'].mean()"
   ]
  },
  {
   "cell_type": "code",
   "execution_count": 76,
   "metadata": {},
   "outputs": [
    {
     "data": {
      "text/plain": [
       "False"
      ]
     },
     "execution_count": 76,
     "metadata": {},
     "output_type": "execute_result"
    }
   ],
   "source": [
    "#  마지막으로 null 값을 확인한다.\n",
    "data.Age.isnull().any()"
   ]
  },
  {
   "cell_type": "code",
   "execution_count": 84,
   "metadata": {},
   "outputs": [
    {
     "data": {
      "image/png": "[encoded data removed]",
      "text/plain": [
       "<Figure size 1440x720 with 2 Axes>"
      ]
     },
     "metadata": {
      "needs_background": "light"
     },
     "output_type": "display_data"
    }
   ],
   "source": [
    "f,ax=plt.subplots(1,2,figsize=(20,10))\n",
    "data[data['Survived']==0].Age.plot.hist(ax = ax[0],bins=20,edgecolor='black',color='red')\n",
    "ax[0].set_title('Survived = 0')\n",
    "x1=list(range(0,85,5))\n",
    "ax[0].set_xticks(x1)\n",
    "data[data['Survived']==1].Age.plot.hist(ax=ax[1],color='green',bins=20,edgecolor='black')\n",
    "ax[1].set_title('Survived= 1')\n",
    "x2=list(range(0,85,5))\n",
    "ax[1].set_xticks(x2)\n",
    "plt.show()"
   ]
  },
  {
   "cell_type": "markdown",
   "metadata": {},
   "source": [
    "### 관찰 :"
   ]
  },
  {
   "cell_type": "markdown",
   "metadata": {},
   "source": [
    "#### 1) 유아 (5 세 미만)는 다수 (여성과 아동 우선 정책?)로 저장되었다."
   ]
  },
  {
   "cell_type": "markdown",
   "metadata": {},
   "source": [
    "#### 2) 가장 오래된 승객 (80 년)."
   ]
  },
  {
   "cell_type": "markdown",
   "metadata": {},
   "source": [
    "#### 3) 최대 사망자 수는 30-40 세의 연령 그룹에있었습니다."
   ]
  },
  {
   "cell_type": "code",
   "execution_count": 91,
   "metadata": {},
   "outputs": [
    {
     "data": {
      "image/png": "[encoded data removed]",
      "text/plain": [
       "<Figure size 1800x360 with 5 Axes>"
      ]
     },
     "metadata": {
      "needs_background": "light"
     },
     "output_type": "display_data"
    }
   ],
   "source": [
    "sns.factorplot('Pclass','Survived',col='Initial',data=data)\n",
    "plt.show()"
   ]
  },
  {
   "cell_type": "markdown",
   "metadata": {},
   "source": [
    "따라서 여성과 아동의 첫 번째 정책은 수업에 관계없이 사실입니다."
   ]
  },
  {
   "cell_type": "markdown",
   "metadata": {},
   "source": [
    "## 착수-> 범주 값"
   ]
  },
  {
   "cell_type": "code",
   "execution_count": 96,
   "metadata": {},
   "outputs": [
    {
     "data": {
      "text/html": [
       "<style  type=\"text/css\" >\n",
       "    #T_c152a01e_ccb7_11ea_9e33_c0abcd2cd437row0_col0 {\n",
       "            background-color:  #fcfe66;\n",
       "            color:  #000000;\n",
       "        }    #T_c152a01e_ccb7_11ea_9e33_c0abcd2cd437row0_col1 {\n",
       "            background-color:  #d2e866;\n",
       "            color:  #000000;\n",
       "        }    #T_c152a01e_ccb7_11ea_9e33_c0abcd2cd437row0_col2 {\n",
       "            background-color:  #f2f866;\n",
       "            color:  #000000;\n",
       "        }    #T_c152a01e_ccb7_11ea_9e33_c0abcd2cd437row0_col3 {\n",
       "            background-color:  #d8ec66;\n",
       "            color:  #000000;\n",
       "        }    #T_c152a01e_ccb7_11ea_9e33_c0abcd2cd437row0_col4 {\n",
       "            background-color:  #e8f466;\n",
       "            color:  #000000;\n",
       "        }    #T_c152a01e_ccb7_11ea_9e33_c0abcd2cd437row1_col0 {\n",
       "            background-color:  #ffff66;\n",
       "            color:  #000000;\n",
       "        }    #T_c152a01e_ccb7_11ea_9e33_c0abcd2cd437row1_col1 {\n",
       "            background-color:  #f9fc66;\n",
       "            color:  #000000;\n",
       "        }    #T_c152a01e_ccb7_11ea_9e33_c0abcd2cd437row1_col2 {\n",
       "            background-color:  #fcfe66;\n",
       "            color:  #000000;\n",
       "        }    #T_c152a01e_ccb7_11ea_9e33_c0abcd2cd437row1_col3 {\n",
       "            background-color:  #fbfd66;\n",
       "            color:  #000000;\n",
       "        }    #T_c152a01e_ccb7_11ea_9e33_c0abcd2cd437row1_col4 {\n",
       "            background-color:  #fbfd66;\n",
       "            color:  #000000;\n",
       "        }    #T_c152a01e_ccb7_11ea_9e33_c0abcd2cd437row2_col0 {\n",
       "            background-color:  #e6f266;\n",
       "            color:  #000000;\n",
       "        }    #T_c152a01e_ccb7_11ea_9e33_c0abcd2cd437row2_col1 {\n",
       "            background-color:  #f0f866;\n",
       "            color:  #000000;\n",
       "        }    #T_c152a01e_ccb7_11ea_9e33_c0abcd2cd437row2_col2 {\n",
       "            background-color:  #eef666;\n",
       "            color:  #000000;\n",
       "        }    #T_c152a01e_ccb7_11ea_9e33_c0abcd2cd437row2_col3 {\n",
       "            background-color:  #e8f466;\n",
       "            color:  #000000;\n",
       "        }    #T_c152a01e_ccb7_11ea_9e33_c0abcd2cd437row2_col4 {\n",
       "            background-color:  #edf666;\n",
       "            color:  #000000;\n",
       "        }    #T_c152a01e_ccb7_11ea_9e33_c0abcd2cd437row3_col0 {\n",
       "            background-color:  #ffff66;\n",
       "            color:  #000000;\n",
       "        }    #T_c152a01e_ccb7_11ea_9e33_c0abcd2cd437row3_col1 {\n",
       "            background-color:  #ffff66;\n",
       "            color:  #000000;\n",
       "        }    #T_c152a01e_ccb7_11ea_9e33_c0abcd2cd437row3_col2 {\n",
       "            background-color:  #ffff66;\n",
       "            color:  #000000;\n",
       "        }    #T_c152a01e_ccb7_11ea_9e33_c0abcd2cd437row3_col3 {\n",
       "            background-color:  #ffff66;\n",
       "            color:  #000000;\n",
       "        }    #T_c152a01e_ccb7_11ea_9e33_c0abcd2cd437row3_col4 {\n",
       "            background-color:  #ffff66;\n",
       "            color:  #000000;\n",
       "        }    #T_c152a01e_ccb7_11ea_9e33_c0abcd2cd437row4_col0 {\n",
       "            background-color:  #ffff66;\n",
       "            color:  #000000;\n",
       "        }    #T_c152a01e_ccb7_11ea_9e33_c0abcd2cd437row4_col1 {\n",
       "            background-color:  #fefe66;\n",
       "            color:  #000000;\n",
       "        }    #T_c152a01e_ccb7_11ea_9e33_c0abcd2cd437row4_col2 {\n",
       "            background-color:  #ffff66;\n",
       "            color:  #000000;\n",
       "        }    #T_c152a01e_ccb7_11ea_9e33_c0abcd2cd437row4_col3 {\n",
       "            background-color:  #ffff66;\n",
       "            color:  #000000;\n",
       "        }    #T_c152a01e_ccb7_11ea_9e33_c0abcd2cd437row4_col4 {\n",
       "            background-color:  #ffff66;\n",
       "            color:  #000000;\n",
       "        }    #T_c152a01e_ccb7_11ea_9e33_c0abcd2cd437row5_col0 {\n",
       "            background-color:  #e3f166;\n",
       "            color:  #000000;\n",
       "        }    #T_c152a01e_ccb7_11ea_9e33_c0abcd2cd437row5_col1 {\n",
       "            background-color:  #e6f266;\n",
       "            color:  #000000;\n",
       "        }    #T_c152a01e_ccb7_11ea_9e33_c0abcd2cd437row5_col2 {\n",
       "            background-color:  #ecf666;\n",
       "            color:  #000000;\n",
       "        }    #T_c152a01e_ccb7_11ea_9e33_c0abcd2cd437row5_col3 {\n",
       "            background-color:  #f8fc66;\n",
       "            color:  #000000;\n",
       "        }    #T_c152a01e_ccb7_11ea_9e33_c0abcd2cd437row5_col4 {\n",
       "            background-color:  #ebf566;\n",
       "            color:  #000000;\n",
       "        }    #T_c152a01e_ccb7_11ea_9e33_c0abcd2cd437row6_col0 {\n",
       "            background-color:  #f9fc66;\n",
       "            color:  #000000;\n",
       "        }    #T_c152a01e_ccb7_11ea_9e33_c0abcd2cd437row6_col1 {\n",
       "            background-color:  #cde666;\n",
       "            color:  #000000;\n",
       "        }    #T_c152a01e_ccb7_11ea_9e33_c0abcd2cd437row6_col2 {\n",
       "            background-color:  #e4f266;\n",
       "            color:  #000000;\n",
       "        }    #T_c152a01e_ccb7_11ea_9e33_c0abcd2cd437row6_col3 {\n",
       "            background-color:  #bede66;\n",
       "            color:  #000000;\n",
       "        }    #T_c152a01e_ccb7_11ea_9e33_c0abcd2cd437row6_col4 {\n",
       "            background-color:  #dbed66;\n",
       "            color:  #000000;\n",
       "        }    #T_c152a01e_ccb7_11ea_9e33_c0abcd2cd437row7_col0 {\n",
       "            background-color:  #edf666;\n",
       "            color:  #000000;\n",
       "        }    #T_c152a01e_ccb7_11ea_9e33_c0abcd2cd437row7_col1 {\n",
       "            background-color:  #bdde66;\n",
       "            color:  #000000;\n",
       "        }    #T_c152a01e_ccb7_11ea_9e33_c0abcd2cd437row7_col2 {\n",
       "            background-color:  #d3e966;\n",
       "            color:  #000000;\n",
       "        }    #T_c152a01e_ccb7_11ea_9e33_c0abcd2cd437row7_col3 {\n",
       "            background-color:  #dcee66;\n",
       "            color:  #000000;\n",
       "        }    #T_c152a01e_ccb7_11ea_9e33_c0abcd2cd437row7_col4 {\n",
       "            background-color:  #d1e866;\n",
       "            color:  #000000;\n",
       "        }    #T_c152a01e_ccb7_11ea_9e33_c0abcd2cd437row8_col0 {\n",
       "            background-color:  #52a866;\n",
       "            color:  #000000;\n",
       "        }    #T_c152a01e_ccb7_11ea_9e33_c0abcd2cd437row8_col1 {\n",
       "            background-color:  #dcee66;\n",
       "            color:  #000000;\n",
       "        }    #T_c152a01e_ccb7_11ea_9e33_c0abcd2cd437row8_col2 {\n",
       "            background-color:  #81c066;\n",
       "            color:  #000000;\n",
       "        }    #T_c152a01e_ccb7_11ea_9e33_c0abcd2cd437row8_col3 {\n",
       "            background-color:  #b0d866;\n",
       "            color:  #000000;\n",
       "        }    #T_c152a01e_ccb7_11ea_9e33_c0abcd2cd437row8_col4 {\n",
       "            background-color:  #9acc66;\n",
       "            color:  #000000;\n",
       "        }    #T_c152a01e_ccb7_11ea_9e33_c0abcd2cd437row9_col0 {\n",
       "            background-color:  #008066;\n",
       "            color:  #f1f1f1;\n",
       "        }    #T_c152a01e_ccb7_11ea_9e33_c0abcd2cd437row9_col1 {\n",
       "            background-color:  #008066;\n",
       "            color:  #f1f1f1;\n",
       "        }    #T_c152a01e_ccb7_11ea_9e33_c0abcd2cd437row9_col2 {\n",
       "            background-color:  #008066;\n",
       "            color:  #f1f1f1;\n",
       "        }    #T_c152a01e_ccb7_11ea_9e33_c0abcd2cd437row9_col3 {\n",
       "            background-color:  #008066;\n",
       "            color:  #f1f1f1;\n",
       "        }    #T_c152a01e_ccb7_11ea_9e33_c0abcd2cd437row9_col4 {\n",
       "            background-color:  #008066;\n",
       "            color:  #f1f1f1;\n",
       "        }</style><table id=\"T_c152a01e_ccb7_11ea_9e33_c0abcd2cd437\" ><thead>    <tr>        <th class=\"blank\" ></th>        <th class=\"index_name level0\" >Sex</th>        <th class=\"col_heading level0 col0\" colspan=2>female</th>        <th class=\"col_heading level0 col2\" colspan=2>male</th>        <th class=\"col_heading level0 col4\" >All</th>    </tr>    <tr>        <th class=\"blank\" ></th>        <th class=\"index_name level1\" >Survived</th>        <th class=\"col_heading level1 col0\" >0</th>        <th class=\"col_heading level1 col1\" >1</th>        <th class=\"col_heading level1 col2\" >0</th>        <th class=\"col_heading level1 col3\" >1</th>        <th class=\"col_heading level1 col4\" ></th>    </tr>    <tr>        <th class=\"index_name level0\" >Embarked</th>        <th class=\"index_name level1\" >Pclass</th>        <th class=\"blank\" ></th>        <th class=\"blank\" ></th>        <th class=\"blank\" ></th>        <th class=\"blank\" ></th>        <th class=\"blank\" ></th>    </tr></thead><tbody>\n",
       "                <tr>\n",
       "                        <th id=\"T_c152a01e_ccb7_11ea_9e33_c0abcd2cd437level0_row0\" class=\"row_heading level0 row0\" rowspan=3>C</th>\n",
       "                        <th id=\"T_c152a01e_ccb7_11ea_9e33_c0abcd2cd437level1_row0\" class=\"row_heading level1 row0\" >1</th>\n",
       "                        <td id=\"T_c152a01e_ccb7_11ea_9e33_c0abcd2cd437row0_col0\" class=\"data row0 col0\" >1</td>\n",
       "                        <td id=\"T_c152a01e_ccb7_11ea_9e33_c0abcd2cd437row0_col1\" class=\"data row0 col1\" >42</td>\n",
       "                        <td id=\"T_c152a01e_ccb7_11ea_9e33_c0abcd2cd437row0_col2\" class=\"data row0 col2\" >25</td>\n",
       "                        <td id=\"T_c152a01e_ccb7_11ea_9e33_c0abcd2cd437row0_col3\" class=\"data row0 col3\" >17</td>\n",
       "                        <td id=\"T_c152a01e_ccb7_11ea_9e33_c0abcd2cd437row0_col4\" class=\"data row0 col4\" >85</td>\n",
       "            </tr>\n",
       "            <tr>\n",
       "                                <th id=\"T_c152a01e_ccb7_11ea_9e33_c0abcd2cd437level1_row1\" class=\"row_heading level1 row1\" >2</th>\n",
       "                        <td id=\"T_c152a01e_ccb7_11ea_9e33_c0abcd2cd437row1_col0\" class=\"data row1 col0\" >0</td>\n",
       "                        <td id=\"T_c152a01e_ccb7_11ea_9e33_c0abcd2cd437row1_col1\" class=\"data row1 col1\" >7</td>\n",
       "                        <td id=\"T_c152a01e_ccb7_11ea_9e33_c0abcd2cd437row1_col2\" class=\"data row1 col2\" >8</td>\n",
       "                        <td id=\"T_c152a01e_ccb7_11ea_9e33_c0abcd2cd437row1_col3\" class=\"data row1 col3\" >2</td>\n",
       "                        <td id=\"T_c152a01e_ccb7_11ea_9e33_c0abcd2cd437row1_col4\" class=\"data row1 col4\" >17</td>\n",
       "            </tr>\n",
       "            <tr>\n",
       "                                <th id=\"T_c152a01e_ccb7_11ea_9e33_c0abcd2cd437level1_row2\" class=\"row_heading level1 row2\" >3</th>\n",
       "                        <td id=\"T_c152a01e_ccb7_11ea_9e33_c0abcd2cd437row2_col0\" class=\"data row2 col0\" >8</td>\n",
       "                        <td id=\"T_c152a01e_ccb7_11ea_9e33_c0abcd2cd437row2_col1\" class=\"data row2 col1\" >15</td>\n",
       "                        <td id=\"T_c152a01e_ccb7_11ea_9e33_c0abcd2cd437row2_col2\" class=\"data row2 col2\" >33</td>\n",
       "                        <td id=\"T_c152a01e_ccb7_11ea_9e33_c0abcd2cd437row2_col3\" class=\"data row2 col3\" >10</td>\n",
       "                        <td id=\"T_c152a01e_ccb7_11ea_9e33_c0abcd2cd437row2_col4\" class=\"data row2 col4\" >66</td>\n",
       "            </tr>\n",
       "            <tr>\n",
       "                        <th id=\"T_c152a01e_ccb7_11ea_9e33_c0abcd2cd437level0_row3\" class=\"row_heading level0 row3\" rowspan=3>Q</th>\n",
       "                        <th id=\"T_c152a01e_ccb7_11ea_9e33_c0abcd2cd437level1_row3\" class=\"row_heading level1 row3\" >1</th>\n",
       "                        <td id=\"T_c152a01e_ccb7_11ea_9e33_c0abcd2cd437row3_col0\" class=\"data row3 col0\" >0</td>\n",
       "                        <td id=\"T_c152a01e_ccb7_11ea_9e33_c0abcd2cd437row3_col1\" class=\"data row3 col1\" >1</td>\n",
       "                        <td id=\"T_c152a01e_ccb7_11ea_9e33_c0abcd2cd437row3_col2\" class=\"data row3 col2\" >1</td>\n",
       "                        <td id=\"T_c152a01e_ccb7_11ea_9e33_c0abcd2cd437row3_col3\" class=\"data row3 col3\" >0</td>\n",
       "                        <td id=\"T_c152a01e_ccb7_11ea_9e33_c0abcd2cd437row3_col4\" class=\"data row3 col4\" >2</td>\n",
       "            </tr>\n",
       "            <tr>\n",
       "                                <th id=\"T_c152a01e_ccb7_11ea_9e33_c0abcd2cd437level1_row4\" class=\"row_heading level1 row4\" >2</th>\n",
       "                        <td id=\"T_c152a01e_ccb7_11ea_9e33_c0abcd2cd437row4_col0\" class=\"data row4 col0\" >0</td>\n",
       "                        <td id=\"T_c152a01e_ccb7_11ea_9e33_c0abcd2cd437row4_col1\" class=\"data row4 col1\" >2</td>\n",
       "                        <td id=\"T_c152a01e_ccb7_11ea_9e33_c0abcd2cd437row4_col2\" class=\"data row4 col2\" >1</td>\n",
       "                        <td id=\"T_c152a01e_ccb7_11ea_9e33_c0abcd2cd437row4_col3\" class=\"data row4 col3\" >0</td>\n",
       "                        <td id=\"T_c152a01e_ccb7_11ea_9e33_c0abcd2cd437row4_col4\" class=\"data row4 col4\" >3</td>\n",
       "            </tr>\n",
       "            <tr>\n",
       "                                <th id=\"T_c152a01e_ccb7_11ea_9e33_c0abcd2cd437level1_row5\" class=\"row_heading level1 row5\" >3</th>\n",
       "                        <td id=\"T_c152a01e_ccb7_11ea_9e33_c0abcd2cd437row5_col0\" class=\"data row5 col0\" >9</td>\n",
       "                        <td id=\"T_c152a01e_ccb7_11ea_9e33_c0abcd2cd437row5_col1\" class=\"data row5 col1\" >24</td>\n",
       "                        <td id=\"T_c152a01e_ccb7_11ea_9e33_c0abcd2cd437row5_col2\" class=\"data row5 col2\" >36</td>\n",
       "                        <td id=\"T_c152a01e_ccb7_11ea_9e33_c0abcd2cd437row5_col3\" class=\"data row5 col3\" >3</td>\n",
       "                        <td id=\"T_c152a01e_ccb7_11ea_9e33_c0abcd2cd437row5_col4\" class=\"data row5 col4\" >72</td>\n",
       "            </tr>\n",
       "            <tr>\n",
       "                        <th id=\"T_c152a01e_ccb7_11ea_9e33_c0abcd2cd437level0_row6\" class=\"row_heading level0 row6\" rowspan=3>S</th>\n",
       "                        <th id=\"T_c152a01e_ccb7_11ea_9e33_c0abcd2cd437level1_row6\" class=\"row_heading level1 row6\" >1</th>\n",
       "                        <td id=\"T_c152a01e_ccb7_11ea_9e33_c0abcd2cd437row6_col0\" class=\"data row6 col0\" >2</td>\n",
       "                        <td id=\"T_c152a01e_ccb7_11ea_9e33_c0abcd2cd437row6_col1\" class=\"data row6 col1\" >46</td>\n",
       "                        <td id=\"T_c152a01e_ccb7_11ea_9e33_c0abcd2cd437row6_col2\" class=\"data row6 col2\" >51</td>\n",
       "                        <td id=\"T_c152a01e_ccb7_11ea_9e33_c0abcd2cd437row6_col3\" class=\"data row6 col3\" >28</td>\n",
       "                        <td id=\"T_c152a01e_ccb7_11ea_9e33_c0abcd2cd437row6_col4\" class=\"data row6 col4\" >127</td>\n",
       "            </tr>\n",
       "            <tr>\n",
       "                                <th id=\"T_c152a01e_ccb7_11ea_9e33_c0abcd2cd437level1_row7\" class=\"row_heading level1 row7\" >2</th>\n",
       "                        <td id=\"T_c152a01e_ccb7_11ea_9e33_c0abcd2cd437row7_col0\" class=\"data row7 col0\" >6</td>\n",
       "                        <td id=\"T_c152a01e_ccb7_11ea_9e33_c0abcd2cd437row7_col1\" class=\"data row7 col1\" >61</td>\n",
       "                        <td id=\"T_c152a01e_ccb7_11ea_9e33_c0abcd2cd437row7_col2\" class=\"data row7 col2\" >82</td>\n",
       "                        <td id=\"T_c152a01e_ccb7_11ea_9e33_c0abcd2cd437row7_col3\" class=\"data row7 col3\" >15</td>\n",
       "                        <td id=\"T_c152a01e_ccb7_11ea_9e33_c0abcd2cd437row7_col4\" class=\"data row7 col4\" >164</td>\n",
       "            </tr>\n",
       "            <tr>\n",
       "                                <th id=\"T_c152a01e_ccb7_11ea_9e33_c0abcd2cd437level1_row8\" class=\"row_heading level1 row8\" >3</th>\n",
       "                        <td id=\"T_c152a01e_ccb7_11ea_9e33_c0abcd2cd437row8_col0\" class=\"data row8 col0\" >55</td>\n",
       "                        <td id=\"T_c152a01e_ccb7_11ea_9e33_c0abcd2cd437row8_col1\" class=\"data row8 col1\" >33</td>\n",
       "                        <td id=\"T_c152a01e_ccb7_11ea_9e33_c0abcd2cd437row8_col2\" class=\"data row8 col2\" >231</td>\n",
       "                        <td id=\"T_c152a01e_ccb7_11ea_9e33_c0abcd2cd437row8_col3\" class=\"data row8 col3\" >34</td>\n",
       "                        <td id=\"T_c152a01e_ccb7_11ea_9e33_c0abcd2cd437row8_col4\" class=\"data row8 col4\" >353</td>\n",
       "            </tr>\n",
       "            <tr>\n",
       "                        <th id=\"T_c152a01e_ccb7_11ea_9e33_c0abcd2cd437level0_row9\" class=\"row_heading level0 row9\" >All</th>\n",
       "                        <th id=\"T_c152a01e_ccb7_11ea_9e33_c0abcd2cd437level1_row9\" class=\"row_heading level1 row9\" ></th>\n",
       "                        <td id=\"T_c152a01e_ccb7_11ea_9e33_c0abcd2cd437row9_col0\" class=\"data row9 col0\" >81</td>\n",
       "                        <td id=\"T_c152a01e_ccb7_11ea_9e33_c0abcd2cd437row9_col1\" class=\"data row9 col1\" >231</td>\n",
       "                        <td id=\"T_c152a01e_ccb7_11ea_9e33_c0abcd2cd437row9_col2\" class=\"data row9 col2\" >468</td>\n",
       "                        <td id=\"T_c152a01e_ccb7_11ea_9e33_c0abcd2cd437row9_col3\" class=\"data row9 col3\" >109</td>\n",
       "                        <td id=\"T_c152a01e_ccb7_11ea_9e33_c0abcd2cd437row9_col4\" class=\"data row9 col4\" >889</td>\n",
       "            </tr>\n",
       "    </tbody></table>"
      ],
      "text/plain": [
       "<pandas.io.formats.style.Styler at 0x2387965c448>"
      ]
     },
     "execution_count": 96,
     "metadata": {},
     "output_type": "execute_result"
    }
   ],
   "source": [
    "pd.crosstab([data.Embarked,data.Pclass],[data.Sex,data.Survived],margins=True).style.background_gradient(cmap='summer_r')"
   ]
  },
  {
   "cell_type": "code",
   "execution_count": null,
   "metadata": {},
   "outputs": [],
   "source": [
    "https://www.kaggle.com/ash316/eda-to-prediction-dietanic"
   ]
  },
  {
   "cell_type": "code",
   "execution_count": null,
   "metadata": {},
   "outputs": [],
   "source": []
  },
  {
   "cell_type": "code",
   "execution_count": null,
   "metadata": {},
   "outputs": [],
   "source": []
  },
  {
   "cell_type": "code",
   "execution_count": null,
   "metadata": {},
   "outputs": [],
   "source": []
  },
  {
   "cell_type": "code",
   "execution_count": null,
   "metadata": {},
   "outputs": [],
   "source": []
  },
  {
   "cell_type": "code",
   "execution_count": null,
   "metadata": {},
   "outputs": [],
   "source": []
  },
  {
   "cell_type": "code",
   "execution_count": null,
   "metadata": {},
   "outputs": [],
   "source": []
  },
  {
   "cell_type": "code",
   "execution_count": null,
   "metadata": {},
   "outputs": [],
   "source": []
  },
  {
   "cell_type": "code",
   "execution_count": null,
   "metadata": {},
   "outputs": [],
   "source": []
  },
  {
   "cell_type": "code",
   "execution_count": null,
   "metadata": {},
   "outputs": [],
   "source": []
  },
  {
   "cell_type": "code",
   "execution_count": null,
   "metadata": {},
   "outputs": [],
   "source": []
  },
  {
   "cell_type": "code",
   "execution_count": null,
   "metadata": {},
   "outputs": [],
   "source": []
  },
  {
   "cell_type": "code",
   "execution_count": null,
   "metadata": {},
   "outputs": [],
   "source": []
  },
  {
   "cell_type": "code",
   "execution_count": null,
   "metadata": {},
   "outputs": [],
   "source": []
  },
  {
   "cell_type": "code",
   "execution_count": null,
   "metadata": {},
   "outputs": [],
   "source": []
  },
  {
   "cell_type": "code",
   "execution_count": null,
   "metadata": {},
   "outputs": [],
   "source": []
  },
  {
   "cell_type": "code",
   "execution_count": null,
   "metadata": {},
   "outputs": [],
   "source": []
  }
 ],
 "metadata": {
  "kernelspec": {
   "display_name": "Python 3",
   "language": "python",
   "name": "python3"
  },
  "language_info": {
   "codemirror_mode": {
    "name": "ipython",
    "version": 3
   },
   "file_extension": ".py",
   "mimetype": "text/x-python",
   "name": "python",
   "nbconvert_exporter": "python",
   "pygments_lexer": "ipython3",
   "version": "3.7.6"
  }
 },
 "nbformat": 4,
 "nbformat_minor": 4
}
