{
 "cells": [
  {
   "cell_type": "markdown",
   "metadata": {},
   "source": [
    "https://wikidocs.net/21047"
   ]
  },
  {
   "cell_type": "markdown",
   "metadata": {},
   "source": [
    "#### m%matplotlib inline \n",
    "역할은 notebook을 실행한 브라우저에서 바로 그림을 볼 수 있게 해주는 것 입니다.\n",
    "\n",
    "##### \"default\"\n",
    "경고가 발행 된 각 위치 (모듈 + 라인 번호)에 대해 일치하는 경고의 첫 번째 발생을 인쇄\n",
    "\n",
    "##### \"error\"\n",
    "일치하는 경고를 예외로 설정\n",
    "\n",
    "##### \"ignore\"\n",
    "일치하는 경고를 인쇄하지 마십시오\n",
    "\n",
    "##### \"always\"\n",
    "항상 일치하는 경고를 인쇄\n",
    "\n",
    "##### \"module\"\n",
    "경고가 발행 된 각 모듈에 대해 일치하는 경고의 첫 번째 발생을 인쇄합니다 (행 번호에 관계없이)\n",
    "\n",
    "##### \"once\"\n",
    "위치에 관계없이 일치하는 첫 번째 경고 만 인쇄\n",
    "\n",
    "#### .T 속성은 \n",
    "DataFrame 에서 index 와 column 을 바꾼 형태의 DataFrame 입니다.\n",
    "\n",
    "#### In [     ]  :   import pandas as pd\n",
    "많은 사람이 pandas의 네이스페이스로 pd를 사용한다. 다른 이름을 사용해도 좋다. csv파일을 불러와야 한다.\n",
    "\n",
    "#### df.index\n",
    " DatetimeIndex(['2013-01-01', '2013-01-02', '2013-01-03', '2013-01-04',\n",
    "                '2013-01-05', '2013-01-06'],\n",
    "               dtype='datetime64[ns]', freq='D')\n",
    "\n",
    "#### df.columns\n",
    " Index(['A', 'B', 'C', 'D'], dtype='object')\n",
    "\n",
    "#### df.values\n",
    " [[ 0.4691, -0.2829, -1.5091, -1.1356],<br>\n",
    "  [ 1.2121, -0.1732,  0.1192, -1.0442],<br>\n",
    "  [-0.8618, -2.1046, -0.4949,  1.0718],<br>\n",
    "  [ 0.7216, -0.7068, -1.0396,  0.2719],<br>\n",
    "  [-0.425 ,  0.567 ,  0.2762, -1.0874],<br>\n",
    "  [-0.6737,  0.1136, -1.4784,  0.525 ]]\n",
    "  \n",
    "#### ax.set_xticks() : \n",
    "X축의 간격을 지정합니다.\n",
    "\n",
    "#### ax.set_xtickabels() :\n",
    "X축의 간격에 라벨을 지정합니다.\n",
    "\n",
    "#### ax.set_ylabel():\n",
    "y축의 라벨을 지정합니다.\n",
    "\n",
    "#### ax.legend():\n",
    "범례를 그래프에 넣어줍니다."
   ]
  },
  {
   "cell_type": "code",
   "execution_count": null,
   "metadata": {},
   "outputs": [],
   "source": []
  }
 ],
 "metadata": {
  "kernelspec": {
   "display_name": "Python 3",
   "language": "python",
   "name": "python3"
  },
  "language_info": {
   "codemirror_mode": {
    "name": "ipython",
    "version": 3
   },
   "file_extension": ".py",
   "mimetype": "text/x-python",
   "name": "python",
   "nbconvert_exporter": "python",
   "pygments_lexer": "ipython3",
   "version": "3.7.6"
  }
 },
 "nbformat": 4,
 "nbformat_minor": 4
}
